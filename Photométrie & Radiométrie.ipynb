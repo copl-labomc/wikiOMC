{
 "cells": [
  {
   "metadata": {
    "trusted": true
   },
   "cell_type": "code",
   "source": "import os #add sys.arg dans le standard import\nimport numpy as np\n#Vérifier ce que les 2 librairies suivantes comprennent et ajuster en conséquence\nimport plotly.express as px\nimport plotly.graph_objects as go\nfrom scipy import integrate\n#todo : tout rephraser plus explicatif en texte continu et faire un meilleur cell template de standard import",
   "execution_count": 28,
   "outputs": []
  },
  {
   "metadata": {},
   "cell_type": "markdown",
   "source": "La conversion d'une grandeur radiométrique $X_e$ en grandeur photométrique $X_v$ sur un intervalle infitésimal $\\mathrm{d}\\lambda$ se fait avec la différentielle\n\\begin{equation}\n\\mathrm{d}X_v=K_{max}X_e(\\lambda)V(\\lambda)\\,\\mathrm{d}\\lambda=683\\,X_e(\\lambda)V(\\lambda)\\,\\mathrm{d}\\lambda\n\\end{equation}\navec un maximum d'efficacité de conversion $K_{max}=683$ lumen/W de l'oeil humain en vision adaptée de jour (photopique). Ce maximum situé à 555 nm se trouve normalisé à 1 dans le coefficient d'efficacité lumineuse spectrale $V(\\lambda)$ photopique relatif, tiré de https://commons.wikimedia.org/wiki/File:Luminosity.png avec un coup de pouce de https://automeris.io/wpd/ :"
  },
  {
   "metadata": {
    "trusted": true
   },
   "cell_type": "code",
   "source": "#todo: remplacer par les données et/ou fonctions de http://www.cvrl.org/people/Stockman/pubs/2005%20Vstar%20SSJJ.pdf provenant de https://doi.org/10.1167/5.11.3\nV_lambda=np.genfromtxt('Coefficient efficace lumineuse spectrale.csv', delimiter=',', skip_header=0)",
   "execution_count": 29,
   "outputs": []
  },
  {
   "metadata": {},
   "cell_type": "markdown",
   "source": "Comme un spectroradiomètre est coûteux, car l'étalonnage en flux énergétique de puissance rayonnée est fastifieux, les unités de la variable dépendante des spectres sont souvent arbitraires. Pour retrouver la grandeur radiométrique $X_e$, il faut donc d'abord normaliser le spectre par l'aire sous sa courbe en l'intégrant sur la variable dépendante mesurée, qui est généralement la longueur d'onde pour des spectromètres sensibles dans le visible."
  },
  {
   "metadata": {
    "trusted": true
   },
   "cell_type": "code",
   "source": "spectre_LED=np.genfromtxt('LED Livowalny_Emission spectrum.txt', delimiter=None, skip_header=18, skip_footer=1)\nif np.sum(spectre_LED[:,1]) !=1 :\n    wavelength=spectre_LED[:,0]\n    spectre_norm=spectre_LED[:,1]/np.sum(spectre_LED[:,1])\nelse : #si déjà normalisé\n    wavelength=spectre_LED[:,0]\n    spectre_norm=spectre_LED[:,1]\nprint(np.sum(spectre_norm),len(spectre_norm),len(wavelength),wavelength,spectre_norm) #pour vérification\n#todo: faire le graphe avant et après normalisationpour confirmer que c'est la même répartition spectrale",
   "execution_count": 30,
   "outputs": [
    {
     "output_type": "stream",
     "text": "1.0 2047 2047 [ 340.61  340.98  341.36 ... 1033.21 1033.52 1033.84] [0.00012652 0.00012875 0.00013173 ... 0.00013619 0.00013545 0.00013768]\n",
     "name": "stdout"
    }
   ]
  },
  {
   "metadata": {},
   "cell_type": "markdown",
   "source": "La répartition spectrale, soit la \"forme\" ou densité du spectre, n'est pas affectée par ce changement d'échelle et il en va de même avec un facteur $F_e$ pour ramener le spectre normalisé $X_{arb,norm}$ à l'échelle du spectre de la grandeur radiométrique étalonnée $X_e$. On en déduit que \n\\begin{equation}\n    X_e(\\lambda)=F_e\\,X_{arb,norm}(\\lambda)\n\\end{equation}\net il devient possible de calculer le facteur d'échelle $F_e$ à l'aide d'une grandeur photométrique en intégrant la première équation.\n\\begin{equation}\nX_v=683F_e\\int \\,X_{arb,norm}(\\lambda)V(\\lambda)\\,\\mathrm{d}\\lambda\n\\end{equation}\nL'intégrale évalue le recouvrement du spectre d'émission de la source avec la réponse de l'oeil humain. Après l'interpolation de l'efficacité lumineuse spectrale $V(\\lambda)$ nécessaire pour obtenir une valeur correspondant à chaque longueur d'onde mesurée du spectre de la source, cette intégrale vaut :"
  },
  {
   "metadata": {
    "trusted": true
   },
   "cell_type": "code",
   "source": "#todo: fix mon try...except block qui n'a pas l'air de faire grand chose\ntry :\n    if np.all(np.diff(wavelength) < 0) or np.all(np.diff(V_lambda[:,0]) < 0):\n        raise Exception(\"Les données des variables indépendantes ne sont pas ordonnés en séquence croissante, les résultats d\\'interpolation seront erronés.\")\nexcept Exception as error :\n    print(error)\n    \nV_lambda_interpole=np.interp(wavelength,V_lambda[:,0],V_lambda[:,1])\nrecouvrement_spectre_oeil=np.sum(spectre_norm * V_lambda_interpole)",
   "execution_count": 31,
   "outputs": []
  },
  {
   "metadata": {
    "trusted": false
   },
   "cell_type": "markdown",
   "source": "Pour $X_v=4800$ lumens, le facteur d'échelle en watts est donc"
  },
  {
   "metadata": {
    "trusted": true
   },
   "cell_type": "code",
   "source": "X_v=4800\nF_e=X_v/(683*recouvrement_spectre_oeil)\nprint(F_e)",
   "execution_count": 32,
   "outputs": [
    {
     "output_type": "stream",
     "text": "16.76221906667384\n",
     "name": "stdout"
    }
   ]
  },
  {
   "metadata": {
    "trusted": true
   },
   "cell_type": "code",
   "source": "#todo : il reste essentiellement à montrer qu'en intégrant la mise à l'échelle ci-dessus, le facteur d'échelle est bel et bien le flux énergétique de puissance rayonnée totale en intégrant l'équation de mise à l'échelle spécifiquement pour le flux énergétique. puisque le spectre normalisé intègre à 1.\n# Il y a probablement une équation cute à écrire pour l'équivalence des spectres mis à l'échelle par leur facteur de conversion respectif.\n# loin de la valeur des specs si c'est bien un 48W lumineux obtenu d'un 60W électrique, p-e calculé en vision scotopique?",
   "execution_count": 33,
   "outputs": []
  },
  {
   "metadata": {
    "trusted": true
   },
   "cell_type": "code",
   "source": "# Version de Claude qui me semble manquer le scaling par le max photopique\n# Calculer l'efficacité lumineuse moyenne pondérée basée sur le spectre\n#    efficacite_moyenne_ponderee = np.sum(spectre_relatif * efficacites_interpolees)\n# Calculer le flux radiant total (W)\n#    flux_radiant_total = flux_lumineux_lumens / efficacite_moyenne_ponderee",
   "execution_count": 34,
   "outputs": []
  }
 ],
 "metadata": {
  "kernelspec": {
   "name": "python3",
   "display_name": "Python 3",
   "language": "python"
  },
  "language_info": {
   "name": "python",
   "version": "3.10.4",
   "mimetype": "text/x-python",
   "codemirror_mode": {
    "name": "ipython",
    "version": 3
   },
   "pygments_lexer": "ipython3",
   "nbconvert_exporter": "python",
   "file_extension": ".py"
  }
 },
 "nbformat": 4,
 "nbformat_minor": 2
}